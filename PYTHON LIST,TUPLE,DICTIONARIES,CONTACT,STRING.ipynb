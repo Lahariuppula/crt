{
 "cells": [
  {
   "cell_type": "markdown",
   "metadata": {},
   "source": [
    "# LIST AND LIST EXAMPLES\n"
   ]
  },
  {
   "cell_type": "code",
   "execution_count": 30,
   "metadata": {},
   "outputs": [
    {
     "name": "stdout",
     "output_type": "stream",
     "text": [
      "5\n"
     ]
    }
   ],
   "source": [
    "li = [1,2,3,4,5]\n",
    "print(len(li)) # Len() which will return the length of the list"
   ]
  },
  {
   "cell_type": "code",
   "execution_count": 31,
   "metadata": {},
   "outputs": [
    {
     "name": "stdout",
     "output_type": "stream",
     "text": [
      "[1, 2, 1954, 4, 5]\n"
     ]
    }
   ],
   "source": [
    "li[2] = 1954 # Update the list item value\n",
    "print(li)"
   ]
  },
  {
   "cell_type": "code",
   "execution_count": 32,
   "metadata": {},
   "outputs": [],
   "source": [
    "del li[3] # Delete the specific index value\n",
    "# del li - delete the entire list"
   ]
  },
  {
   "cell_type": "code",
   "execution_count": 33,
   "metadata": {},
   "outputs": [
    {
     "name": "stdout",
     "output_type": "stream",
     "text": [
      "[1, 2, 1954, 5]\n"
     ]
    }
   ],
   "source": [
    "print(li)"
   ]
  },
  {
   "cell_type": "code",
   "execution_count": 34,
   "metadata": {},
   "outputs": [
    {
     "ename": "IndexError",
     "evalue": "list assignment index out of range",
     "output_type": "error",
     "traceback": [
      "\u001b[1;31m---------------------------------------------------------------------------\u001b[0m",
      "\u001b[1;31mIndexError\u001b[0m                                Traceback (most recent call last)",
      "\u001b[1;32m<ipython-input-34-41f3033ff247>\u001b[0m in \u001b[0;36m<module>\u001b[1;34m\u001b[0m\n\u001b[1;32m----> 1\u001b[1;33m \u001b[0mli\u001b[0m\u001b[1;33m[\u001b[0m\u001b[1;36m4\u001b[0m\u001b[1;33m]\u001b[0m \u001b[1;33m=\u001b[0m \u001b[1;36m1920\u001b[0m\u001b[1;33m\u001b[0m\u001b[1;33m\u001b[0m\u001b[0m\n\u001b[0m",
      "\u001b[1;31mIndexError\u001b[0m: list assignment index out of range"
     ]
    }
   ],
   "source": [
    "li[4] = 1920\n"
   ]
  },
  {
   "cell_type": "code",
   "execution_count": 35,
   "metadata": {},
   "outputs": [
    {
     "name": "stdout",
     "output_type": "stream",
     "text": [
      "5\n",
      "[5]\n",
      "[2, 1954, 5]\n",
      "[]\n",
      "[1954]\n"
     ]
    }
   ],
   "source": [
    "print(li[-1])# To access the last item of the list\n",
    "print(li[3:4])\n",
    "print(li[1:4])\n",
    "print(li[-1:3])\n",
    "print(li[-2:3])"
   ]
  },
  {
   "cell_type": "code",
   "execution_count": 36,
   "metadata": {},
   "outputs": [
    {
     "name": "stdout",
     "output_type": "stream",
     "text": [
      "1962\n",
      "1954\n",
      "1\n",
      "490\n"
     ]
    }
   ],
   "source": [
    "# Methods of list\n",
    "print(sum(li)) \n",
    "print(max(li)) #maximum value of the list \n",
    "print(min(li)) #minimum value of the list\n",
    "print(sum(li)//len(li)) #avg \n",
    "# Find output as alternate numbers avg"
   ]
  },
  {
   "cell_type": "code",
   "execution_count": 37,
   "metadata": {},
   "outputs": [
    {
     "name": "stdout",
     "output_type": "stream",
     "text": [
      "[2, 3, 4]\n"
     ]
    }
   ],
   "source": [
    "li1 = [1,2,3,4,5]\n",
    "print(li1[-4:-1])"
   ]
  },
  {
   "cell_type": "code",
   "execution_count": 38,
   "metadata": {},
   "outputs": [
    {
     "data": {
      "text/plain": [
       "[1, 2, 1954, 5]"
      ]
     },
     "execution_count": 38,
     "metadata": {},
     "output_type": "execute_result"
    }
   ],
   "source": [
    "li"
   ]
  },
  {
   "cell_type": "code",
   "execution_count": 39,
   "metadata": {},
   "outputs": [
    {
     "data": {
      "text/plain": [
       "[1, 2, 1954, 5, 100]"
      ]
     },
     "execution_count": 39,
     "metadata": {},
     "output_type": "execute_result"
    }
   ],
   "source": [
    "# List methods \n",
    "li.append(100) # append will insert the new item at the end in the list\n",
    "li"
   ]
  },
  {
   "cell_type": "code",
   "execution_count": 40,
   "metadata": {},
   "outputs": [
    {
     "data": {
      "text/plain": [
       "[1, 2, 1954, 59, 5, 100]"
      ]
     },
     "execution_count": 40,
     "metadata": {},
     "output_type": "execute_result"
    }
   ],
   "source": [
    "li.insert(3,59) # used to insert the value in the middle of the list depending on the given value\n",
    "li# INSERTS THE NEW ITEM AT ANY SPECIFIED POSITION"
   ]
  },
  {
   "cell_type": "code",
   "execution_count": 41,
   "metadata": {},
   "outputs": [
    {
     "data": {
      "text/plain": [
       "1"
      ]
     },
     "execution_count": 41,
     "metadata": {},
     "output_type": "execute_result"
    }
   ],
   "source": [
    "li.count(100) # Gives the count of list item how many times it is repeated"
   ]
  },
  {
   "cell_type": "code",
   "execution_count": 42,
   "metadata": {},
   "outputs": [
    {
     "name": "stdout",
     "output_type": "stream",
     "text": [
      "index"
     ]
    },
    {
     "data": {
      "text/plain": [
       "3"
      ]
     },
     "execution_count": 42,
     "metadata": {},
     "output_type": "execute_result"
    }
   ],
   "source": [
    "print('index' ,end = '') # index() gives the index of specified value\n",
    "li.index(59)"
   ]
  },
  {
   "cell_type": "code",
   "execution_count": 27,
   "metadata": {
    "scrolled": false
   },
   "outputs": [
    {
     "name": "stdout",
     "output_type": "stream",
     "text": [
      "[1, 2, 8, 20]\n",
      "[1, 2, 8]\n",
      "[1, 2]\n"
     ]
    }
   ],
   "source": [
    "li2=[1,2,8,20]\n",
    "li2.sort()\n",
    "print(li2)# sorts the entire(ascending order)\n",
    "li2.pop()\n",
    "print(li2)# removes the item of last index\n",
    "li2.pop(2) # pop(index) removes the item on specified index\n",
    "print(li2)"
   ]
  },
  {
   "cell_type": "code",
   "execution_count": 51,
   "metadata": {},
   "outputs": [
    {
     "data": {
      "text/plain": [
       "1"
      ]
     },
     "execution_count": 51,
     "metadata": {},
     "output_type": "execute_result"
    }
   ],
   "source": [
    "li = [1,5,6,8] \n",
    "li.sort()# sorts the entire(ascending order)\n",
    "li.pop()# removes the item of last index\n",
    "li.pop(0) # pop(index) removes the item on specified index\n"
   ]
  },
  {
   "cell_type": "code",
   "execution_count": 60,
   "metadata": {},
   "outputs": [
    {
     "data": {
      "text/plain": [
       "65"
      ]
     },
     "execution_count": 60,
     "metadata": {},
     "output_type": "execute_result"
    }
   ],
   "source": [
    "# define the second largest number in the list\n",
    "# li[1,69,16,25,2,3,65]\n",
    "# output = 25\n",
    "def secondLarge(li):\n",
    "    li.sort()\n",
    "    return li[-2]\n",
    "li=[1,69,16,25,2,3,65]\n",
    "secondLarge(li)\n",
    "        \n",
    "        "
   ]
  },
  {
   "cell_type": "code",
   "execution_count": 64,
   "metadata": {},
   "outputs": [
    {
     "data": {
      "text/plain": [
       "16"
      ]
     },
     "execution_count": 64,
     "metadata": {},
     "output_type": "execute_result"
    }
   ],
   "source": [
    "def genericleast(li,n):\n",
    "    li.sort()\n",
    "    return li[n]\n",
    "genericleast(li,3)"
   ]
  },
  {
   "cell_type": "code",
   "execution_count": 63,
   "metadata": {},
   "outputs": [
    {
     "data": {
      "text/plain": [
       "25"
      ]
     },
     "execution_count": 63,
     "metadata": {},
     "output_type": "execute_result"
    }
   ],
   "source": [
    "def genericlarge(li,n):\n",
    "    li.sort()\n",
    "    return li[-n]\n",
    "genericlarge(li,3)"
   ]
  },
  {
   "cell_type": "markdown",
   "metadata": {},
   "source": [
    "# NUMBER TO LIST CONVERSION"
   ]
  },
  {
   "cell_type": "code",
   "execution_count": 67,
   "metadata": {},
   "outputs": [
    {
     "data": {
      "text/plain": [
       "[1, 2, 3, 4, 5, 6, 7]"
      ]
     },
     "execution_count": 67,
     "metadata": {},
     "output_type": "execute_result"
    }
   ],
   "source": [
    "# 1234567-[1,2,3,4,5,6,7]\n",
    "def numberToList(n):\n",
    "    li = [] #empty list\n",
    "    while n != 0:\n",
    "        r = n % 10\n",
    "        li.append(r)\n",
    "        n = n // 10\n",
    "    li.reverse()\n",
    "    return li\n",
    "numberToList(1234567)    \n",
    "    "
   ]
  },
  {
   "cell_type": "markdown",
   "metadata": {},
   "source": [
    "# DATA STRUCTURES - TUPLES\n",
    "- IT IS SIMILAR TO LIST OBJECT\n",
    "- LIST WILL BE ENCLOSED IN SQUARE BRACKETS[] AND TUPLES WILL BE ENCLOSED IN PARAENTHSIS()\n",
    "- LIST CAN BE INCREASED / DECREASED AND TUPLE IS FIXED SO THAT YOU CANT INCREASE OR DECREASE THE TUPLE\n",
    "- IT MEANS LIST IS MUTABLE AND TUPLE IS IMMUTABLE\n",
    "  - used for only reading "
   ]
  },
  {
   "cell_type": "code",
   "execution_count": 68,
   "metadata": {},
   "outputs": [
    {
     "data": {
      "text/plain": [
       "(1, 2, 3, 4, 5)"
      ]
     },
     "execution_count": 68,
     "metadata": {},
     "output_type": "execute_result"
    }
   ],
   "source": [
    "t1 = (1,2,3,4,5)\n",
    "t1"
   ]
  },
  {
   "cell_type": "code",
   "execution_count": 70,
   "metadata": {},
   "outputs": [
    {
     "data": {
      "text/plain": [
       "(1, 2, 3, 4)"
      ]
     },
     "execution_count": 70,
     "metadata": {},
     "output_type": "execute_result"
    }
   ],
   "source": [
    "t1[0:4]"
   ]
  },
  {
   "cell_type": "code",
   "execution_count": 74,
   "metadata": {},
   "outputs": [
    {
     "data": {
      "text/plain": [
       "3"
      ]
     },
     "execution_count": 74,
     "metadata": {},
     "output_type": "execute_result"
    }
   ],
   "source": [
    "t1[2]"
   ]
  },
  {
   "cell_type": "code",
   "execution_count": 75,
   "metadata": {},
   "outputs": [
    {
     "ename": "IndexError",
     "evalue": "tuple index out of range",
     "output_type": "error",
     "traceback": [
      "\u001b[1;31m---------------------------------------------------------------------------\u001b[0m",
      "\u001b[1;31mIndexError\u001b[0m                                Traceback (most recent call last)",
      "\u001b[1;32m<ipython-input-75-b7d79d850592>\u001b[0m in \u001b[0;36m<module>\u001b[1;34m\u001b[0m\n\u001b[1;32m----> 1\u001b[1;33m \u001b[0mt1\u001b[0m\u001b[1;33m[\u001b[0m\u001b[1;36m11\u001b[0m\u001b[1;33m]\u001b[0m\u001b[1;33m\u001b[0m\u001b[1;33m\u001b[0m\u001b[0m\n\u001b[0m",
      "\u001b[1;31mIndexError\u001b[0m: tuple index out of range"
     ]
    }
   ],
   "source": [
    "t1[11]"
   ]
  },
  {
   "cell_type": "code",
   "execution_count": 12,
   "metadata": {},
   "outputs": [
    {
     "name": "stdout",
     "output_type": "stream",
     "text": [
      "6\n",
      "6\n",
      "1\n",
      "21\n"
     ]
    }
   ],
   "source": [
    "t1 = (1,2,3,4,5,6)\n",
    "print(len(t1))\n",
    "print(max(t1))\n",
    "print(min(t1))\n",
    "print(sum(t1))"
   ]
  },
  {
   "cell_type": "markdown",
   "metadata": {},
   "source": [
    "# DATA STRUCTURES- DICTIONARIES\n",
    "- THIS DATA STRUCTURE OBJECT WORK ON SET OF KEYS AND VALUES\n",
    "- UNIQUE KEY SETS WILL BE DEFINED\n",
    "- EVERY KEY IS SEPERATED FROM ITS VALUE BY COLON(:)\n",
    "- EVERY KEY AND VALUE WILL BE SEPERATED BY COMA(,)\n",
    "- THIS WILL BE ENCLOSED BY CURLY BRACKETS{}\n"
   ]
  },
  {
   "cell_type": "code",
   "execution_count": 2,
   "metadata": {},
   "outputs": [
    {
     "name": "stdout",
     "output_type": "stream",
     "text": [
      "{'name': 'lahari', 'email': 'lahariuppula.9@gmail.com', 'phonenumber': '7981183655'}\n"
     ]
    }
   ],
   "source": [
    "d1 = {\"name\":\"lahari\",\"email\":\"lahariuppula.9@gmail.com\",\"phonenumber\":\"7981183655\"}\n",
    "print(d1)"
   ]
  },
  {
   "cell_type": "code",
   "execution_count": 4,
   "metadata": {},
   "outputs": [
    {
     "name": "stdout",
     "output_type": "stream",
     "text": [
      "lahariuppula.9@gmail.com\n",
      "7981183655\n",
      "lahari\n"
     ]
    }
   ],
   "source": [
    "print(d1[\"email\"]) #to access the specify key value\n",
    "print(d1[\"phonenumber\"])\n",
    "print(d1[\"name\"])"
   ]
  },
  {
   "cell_type": "code",
   "execution_count": 6,
   "metadata": {},
   "outputs": [],
   "source": [
    "del d1[\"phonenumber\"] #delete the specific key"
   ]
  },
  {
   "cell_type": "code",
   "execution_count": 7,
   "metadata": {},
   "outputs": [
    {
     "name": "stdout",
     "output_type": "stream",
     "text": [
      "{'name': 'lahari', 'email': 'lahariuppula.9@gmail.com'}\n"
     ]
    }
   ],
   "source": [
    "print(d1)"
   ]
  },
  {
   "cell_type": "code",
   "execution_count": null,
   "metadata": {},
   "outputs": [],
   "source": []
  },
  {
   "cell_type": "markdown",
   "metadata": {},
   "source": [
    "# MOBILE APPLICATION\n",
    "- USED CONTACTS : DICTIONARIES,LIST,TUPLE\n",
    "# MODULES OF CONTACT APPLICATION\n",
    "- ADD CONTACTS\n",
    "- SEARCH CONTACT\n",
    "- IMPORT THE NEW CONTACTS\n",
    "- UPDATE THE CONTACT DETAILS\n",
    "- DELETE THE CONTACT DETAILS"
   ]
  },
  {
   "cell_type": "code",
   "execution_count": 2,
   "metadata": {},
   "outputs": [
    {
     "name": "stdout",
     "output_type": "stream",
     "text": [
      "Contact added\n",
      "Contact added\n",
      "Contact is not added\n"
     ]
    }
   ],
   "source": [
    "contacts = {} # empty dict object\n",
    "# define the function for add contacts\n",
    "def addContacts(name,phone):\n",
    "    if name not in contacts:\n",
    "        contacts[name] = phone\n",
    "        print(\"Contact added\")\n",
    "    else:\n",
    "        print(\"Contact is not added\")\n",
    "    return\n",
    "addContacts('vinitha',1234567) # Contact added\n",
    "addContacts('niharika',3456789) # Contact added\n",
    "addContacts('niharika',4567890) # Contact is not added"
   ]
  },
  {
   "cell_type": "code",
   "execution_count": 3,
   "metadata": {},
   "outputs": [
    {
     "name": "stdout",
     "output_type": "stream",
     "text": [
      "niharika  :  3456789\n",
      "vinitha  :  1234567\n",
      "contact is not present\n"
     ]
    }
   ],
   "source": [
    "# define the function for search contact\n",
    "def searchContact(name):\n",
    "    if name in contacts:\n",
    "        print(name , \" : \" , contacts[name])\n",
    "    else:\n",
    "        print('contact is not present')\n",
    "    return\n",
    "searchContact('niharika') #niharika : 3456789\n",
    "searchContact('vinitha') #vinitha: 1234567\n",
    "searchContact('lahari') #contact is not present"
   ]
  },
  {
   "cell_type": "code",
   "execution_count": 4,
   "metadata": {},
   "outputs": [
    {
     "data": {
      "text/plain": [
       "{'vinitha': 1234567, 'niharika': 3456789}"
      ]
     },
     "execution_count": 4,
     "metadata": {},
     "output_type": "execute_result"
    }
   ],
   "source": [
    "contacts"
   ]
  },
  {
   "cell_type": "code",
   "execution_count": 5,
   "metadata": {},
   "outputs": [
    {
     "name": "stdout",
     "output_type": "stream",
     "text": [
      "New Contacts are added\n"
     ]
    }
   ],
   "source": [
    "# define the function for import the new contacts\n",
    "def importContacts(newContacts):\n",
    "    contacts.update(newContacts)\n",
    "    print('New Contacts are added')\n",
    "    return\n",
    "newContacts={\"lahari\":7981183655,\"dad\":9908314805}\n",
    "importContacts(newContacts)"
   ]
  },
  {
   "cell_type": "code",
   "execution_count": 6,
   "metadata": {},
   "outputs": [
    {
     "name": "stdout",
     "output_type": "stream",
     "text": [
      "contact update is successful\n",
      "please add new contact details\n"
     ]
    }
   ],
   "source": [
    "# define a function for update details\n",
    "def updateDetails(name,phone):\n",
    "    if name in contacts:\n",
    "        contacts[name] = phone\n",
    "        print('contact update is successful')\n",
    "    else:\n",
    "        print('please add new contact details')\n",
    "    return\n",
    "updateDetails('dad',9908314805) #update is successful\n",
    "updateDetails('momma',9550486514) #please add a contact"
   ]
  },
  {
   "cell_type": "code",
   "execution_count": 8,
   "metadata": {},
   "outputs": [
    {
     "name": "stdout",
     "output_type": "stream",
     "text": [
      "contact is deleted\n",
      "contact is not present\n"
     ]
    }
   ],
   "source": [
    "# define function to delete the contact details\n",
    "def deleteContact(name):\n",
    "    if name in contacts:\n",
    "        del contacts[name]\n",
    "        print('contact is deleted')\n",
    "    else:\n",
    "        print('contact is not present')\n",
    "    return\n",
    "deleteContact('vinitha')#contact is deleted\n",
    "deleteContact('ammu')#contact is not present"
   ]
  },
  {
   "cell_type": "code",
   "execution_count": 9,
   "metadata": {},
   "outputs": [
    {
     "data": {
      "text/plain": [
       "{'niharika': 3456789, 'lahari': 7981183655, 'dad': 9908314805}"
      ]
     },
     "execution_count": 9,
     "metadata": {},
     "output_type": "execute_result"
    }
   ],
   "source": [
    "contacts"
   ]
  },
  {
   "cell_type": "markdown",
   "metadata": {},
   "source": [
    "# STRING TO LIST CONVERSION\n",
    "- \"1 2 3 4 5 6\"-[1,2,3,4,5,6]\n"
   ]
  },
  {
   "cell_type": "code",
   "execution_count": 2,
   "metadata": {},
   "outputs": [
    {
     "name": "stdout",
     "output_type": "stream",
     "text": [
      "enter the numbers1 2 3 4 5 6\n",
      "<class 'str'>\n",
      "1 2 3 4 5 6\n"
     ]
    }
   ],
   "source": [
    "a = input('enter the numbers')\n",
    "print(type(a))\n",
    "print(a)"
   ]
  },
  {
   "cell_type": "code",
   "execution_count": 3,
   "metadata": {},
   "outputs": [
    {
     "name": "stdout",
     "output_type": "stream",
     "text": [
      "application test working\n"
     ]
    }
   ],
   "source": [
    "s = \"application test working\"\n",
    "print(s)"
   ]
  },
  {
   "cell_type": "code",
   "execution_count": 4,
   "metadata": {},
   "outputs": [
    {
     "name": "stdout",
     "output_type": "stream",
     "text": [
      "['application', 'test', 'working']\n"
     ]
    }
   ],
   "source": [
    "s = \"application test working\"\n",
    "li = s.split()\n",
    "print(li)"
   ]
  },
  {
   "cell_type": "code",
   "execution_count": 6,
   "metadata": {},
   "outputs": [
    {
     "name": "stdout",
     "output_type": "stream",
     "text": [
      "['git', 'm hyder', 'b', 'd python progr', 'mming']\n"
     ]
    }
   ],
   "source": [
    "s1 = \"gitam hyderabad python programming\"\n",
    "li1 = s1.split('a')\n",
    "print(li1)\n"
   ]
  },
  {
   "cell_type": "code",
   "execution_count": 8,
   "metadata": {},
   "outputs": [
    {
     "data": {
      "text/plain": [
       "[1, 2, 3, 4, 5, 6]"
      ]
     },
     "execution_count": 8,
     "metadata": {},
     "output_type": "execute_result"
    }
   ],
   "source": [
    "# define a function to convert the string to list\n",
    "def stringToList(s):\n",
    "    li = s.split() #divide the string by white space \n",
    "    #['1','2'..]\n",
    "    numberList = []\n",
    "    for i in li:\n",
    "        numberList.append(int(i))\n",
    "    return numberList\n",
    "stringToList('1 2 3 4 5 6')"
   ]
  },
  {
   "cell_type": "code",
   "execution_count": null,
   "metadata": {},
   "outputs": [],
   "source": []
  }
 ],
 "metadata": {
  "kernelspec": {
   "display_name": "Python 3",
   "language": "python",
   "name": "python3"
  },
  "language_info": {
   "codemirror_mode": {
    "name": "ipython",
    "version": 3
   },
   "file_extension": ".py",
   "mimetype": "text/x-python",
   "name": "python",
   "nbconvert_exporter": "python",
   "pygments_lexer": "ipython3",
   "version": "3.7.1"
  }
 },
 "nbformat": 4,
 "nbformat_minor": 2
}
