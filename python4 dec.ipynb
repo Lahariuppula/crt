{
 "cells": [
  {
   "cell_type": "markdown",
   "metadata": {},
   "source": [
    "# DAY OBJECTIVES\n",
    "- LOOP EXAMPLES\n",
    "- FUNCTIONS(USER DEFINED FUNCTIONS)\n",
    "- LIST,TUPLES AND STRING\n"
   ]
  },
  {
   "cell_type": "code",
   "execution_count": 1,
   "metadata": {},
   "outputs": [
    {
     "name": "stdout",
     "output_type": "stream",
     "text": [
      "enter the number145\n",
      "5 4 1 "
     ]
    }
   ],
   "source": [
    "# READ THE NUMBER AS INPUT,PRINT THE OUTPUTS AS DIGITS OF THE NUMBER\n",
    "# TEST CASES: 145- 5 4 1\n",
    "n = int(input('enter the number'))\n",
    "while n != 0:\n",
    "    r = n % 10\n",
    "    print(r,end = ' ')\n",
    "    n = n // 10\n",
    "    \n"
   ]
  },
  {
   "cell_type": "markdown",
   "metadata": {},
   "source": [
    "# FUNCTIONS IN PROGRAMMING\n",
    "- program will be divided into sub parts\n",
    "- it makes the re-use of the code\n",
    "- funtions make programming more easier\n",
    "- def which is use to define a function\n",
    "- function name follows the camel case always\n",
    "   - fun() isPalindrome() isPalindromeCheck()\n",
    "- defination of the function can be anything for the given requirement \n",
    "- def FunctionName():\n",
    "  - statements\n",
    "  - return"
   ]
  },
  {
   "cell_type": "code",
   "execution_count": 1,
   "metadata": {},
   "outputs": [
    {
     "name": "stdout",
     "output_type": "stream",
     "text": [
      "58952\n"
     ]
    },
    {
     "data": {
      "text/plain": [
       "9"
      ]
     },
     "execution_count": 1,
     "metadata": {},
     "output_type": "execute_result"
    }
   ],
   "source": [
    "#READ THE INPUT AS NUMBER,PRINT THE OUTPUT AS LARGE DIGIT OF THE GIVEN NUMBER\n",
    "#58952--9\n",
    "def largeDigit(n):\n",
    "    large = 0\n",
    "    while n != 0:\n",
    "        r = n % 10\n",
    "        if large < r:\n",
    "            large = r\n",
    "        n = n // 10\n",
    "    return large\n",
    "n = int(input(''))\n",
    "largeDigit(n)\n",
    "\n",
    "\n",
    "    \n",
    "\n",
    "\n",
    "\n",
    "\n",
    "\n"
   ]
  },
  {
   "cell_type": "code",
   "execution_count": 5,
   "metadata": {},
   "outputs": [
    {
     "name": "stdout",
     "output_type": "stream",
     "text": [
      "145\n"
     ]
    },
    {
     "data": {
      "text/plain": [
       "10"
      ]
     },
     "execution_count": 5,
     "metadata": {},
     "output_type": "execute_result"
    }
   ],
   "source": [
    "#READ THE INPUT AS A NUMBER,SUM OF THE DIGITS OF THE GIVEN NUMBER\n",
    "#145--10\n",
    "def sumOfDigits(n) :\n",
    "    sum = 0\n",
    "    while n != 0:\n",
    "        r = n % 10\n",
    "        sum = sum + r\n",
    "        n = n // 10\n",
    "    return sum\n",
    "n = int(input(''))\n",
    "sumOfDigits(n)"
   ]
  },
  {
   "cell_type": "code",
   "execution_count": 7,
   "metadata": {},
   "outputs": [
    {
     "name": "stdout",
     "output_type": "stream",
     "text": [
      "121\n"
     ]
    },
    {
     "data": {
      "text/plain": [
       "'Palindrome'"
      ]
     },
     "execution_count": 7,
     "metadata": {},
     "output_type": "execute_result"
    }
   ],
   "source": [
    "#READ THE INPUT AS A NUMBER,PRINT OUT THE PALINDROME OR NOT A PALINDROME\n",
    "#A NUMBER REVERSED ITSELF IS SAME AS ORIGINAL NUMBER CALLED A PALINDROME\n",
    "#121--PALINDROME\n",
    "#145--NOT A PALINDROME\n",
    "def isPalindrome(n):\n",
    "    s = 0\n",
    "    buffer = n\n",
    "    while n != 0:\n",
    "        r = n % 10\n",
    "        s = s * 10 + r\n",
    "        n = n // 10\n",
    "    if s == buffer:\n",
    "        return \"Palindrome\"\n",
    "    else :\n",
    "        return \"Not a Palindrome\"\n",
    "    return\n",
    "n = int(input(''))\n",
    "isPalindrome(n)"
   ]
  },
  {
   "cell_type": "code",
   "execution_count": 11,
   "metadata": {},
   "outputs": [
    {
     "name": "stdout",
     "output_type": "stream",
     "text": [
      "59852\n"
     ]
    },
    {
     "data": {
      "text/plain": [
       "8"
      ]
     },
     "execution_count": 11,
     "metadata": {},
     "output_type": "execute_result"
    }
   ],
   "source": [
    "#READ THE NUMBER AS INPUT,PRINT THE LARGE DIGIT FROM LARGE THREE POSITIONS OF THE NUMBER\n",
    "#TEST CASES-\n",
    "#59852--8\n",
    "def printLargeDigit(n):\n",
    "    i = 0\n",
    "    large = 0\n",
    "    while i != 3:\n",
    "        r = n % 10\n",
    "        if large < r:\n",
    "            large = r\n",
    "        n = n // 10\n",
    "        i = i + 1\n",
    "    return large\n",
    "n = int(input(''))\n",
    "printLargeDigit(n)\n",
    "    "
   ]
  },
  {
   "cell_type": "markdown",
   "metadata": {},
   "source": [
    "# DATA STRUCTURES OF PYTHON PROGRAMMING\n",
    "- LIST \n",
    "- TUPLES\n",
    "- DICTIONARIES\n",
    "- SETS"
   ]
  },
  {
   "cell_type": "code",
   "execution_count": 12,
   "metadata": {},
   "outputs": [
    {
     "name": "stdout",
     "output_type": "stream",
     "text": [
      "[1, 2, 3, 4, 5]\n"
     ]
    }
   ],
   "source": [
    "li = [1,2,3,4,5]\n",
    "print(li)\n"
   ]
  },
  {
   "cell_type": "code",
   "execution_count": 13,
   "metadata": {},
   "outputs": [
    {
     "name": "stdout",
     "output_type": "stream",
     "text": [
      "[1, 2, 'gitam', 199, 189.2, 'hyderabad', 'a']\n"
     ]
    }
   ],
   "source": [
    "li1 = [1,2,\"gitam\",199,189.2,\"hyderabad\",'a']\n",
    "print(li1)"
   ]
  },
  {
   "cell_type": "code",
   "execution_count": 4,
   "metadata": {},
   "outputs": [
    {
     "name": "stdout",
     "output_type": "stream",
     "text": [
      "1 2 gitam 199 189.2 hyderabad a "
     ]
    }
   ],
   "source": [
    "li1 = [1,2,\"gitam\",199,189.2,\"hyderabad\",'a']\n",
    "for i in range(len(li1)):\n",
    "    print(li1[i],end = ' ')"
   ]
  },
  {
   "cell_type": "code",
   "execution_count": 5,
   "metadata": {},
   "outputs": [
    {
     "name": "stdout",
     "output_type": "stream",
     "text": [
      "1 2 3 4 5 6 7 8 9 10 11 "
     ]
    }
   ],
   "source": [
    "for i in range(1,12):\n",
    "    print(i,end = ' ')"
   ]
  },
  {
   "cell_type": "code",
   "execution_count": 6,
   "metadata": {},
   "outputs": [
    {
     "name": "stdout",
     "output_type": "stream",
     "text": [
      "0 2 4 6 8 10 12 14 16 18 20 22 24 "
     ]
    }
   ],
   "source": [
    "for i in range(0,25,2):\n",
    "    print(i,end = ' ')"
   ]
  },
  {
   "cell_type": "code",
   "execution_count": null,
   "metadata": {},
   "outputs": [],
   "source": []
  }
 ],
 "metadata": {
  "kernelspec": {
   "display_name": "Python 3",
   "language": "python",
   "name": "python3"
  },
  "language_info": {
   "codemirror_mode": {
    "name": "ipython",
    "version": 3
   },
   "file_extension": ".py",
   "mimetype": "text/x-python",
   "name": "python",
   "nbconvert_exporter": "python",
   "pygments_lexer": "ipython3",
   "version": "3.7.1"
  }
 },
 "nbformat": 4,
 "nbformat_minor": 2
}
